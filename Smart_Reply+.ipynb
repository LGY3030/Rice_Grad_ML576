{
  "cells": [
    {
      "cell_type": "code",
      "execution_count": null,
      "id": "7279e91b",
      "metadata": {
        "colab": {
          "base_uri": "https://localhost:8080/"
        },
        "id": "7279e91b",
        "outputId": "e5a61b6b-fe32-4aab-8717-12b0ad241be2"
      },
      "outputs": [
        {
          "output_type": "stream",
          "name": "stderr",
          "text": [
            "[nltk_data] Downloading package punkt to /root/nltk_data...\n",
            "[nltk_data]   Package punkt is already up-to-date!\n"
          ]
        },
        {
          "output_type": "execute_result",
          "data": {
            "text/plain": [
              "True"
            ]
          },
          "metadata": {},
          "execution_count": 1
        }
      ],
      "source": [
        "from sklearn.model_selection import train_test_split\n",
        "from keras.models import load_model\n",
        "from keras.layers import Input, Embedding, LSTM, TimeDistributed, Dense\n",
        "from keras.models import Model\n",
        "from keras_preprocessing.sequence import pad_sequences\n",
        "from keras import optimizers\n",
        "from  matplotlib import pyplot as plt\n",
        "import tensorflow as tf\n",
        "from sklearn.utils import shuffle\n",
        "import pandas as pd\n",
        "import numpy as np\n",
        "import gzip\n",
        "import random\n",
        "import math\n",
        "import os\n",
        "import re\n",
        "import nltk\n",
        "nltk.download('punkt')"
      ]
    },
    {
      "cell_type": "code",
      "source": [
        "INPUT_VECTOR_LENGTH = 20 \n",
        "OUTPUT_VECTOR_LENGTH = 8\n",
        "SOS = \"<SOS>\"\n",
        "EOS = \"<EOS>\"\n",
        "GLOVE_MODEL = \"glove.6B.50d.txt\"\n",
        "\n",
        "minimum_length_q = 2      # Minimum question text length\n",
        "maximum_length_q = 20     # Maximum question text length\n",
        "minimum_length_a = 2      # Minimum answer text length\n",
        "maximum_length_a = OUTPUT_VECTOR_LENGTH - 2 # Maxomum answer text length\n",
        "hidden_dim = 400\n",
        "LEARNING_RATE = 0.0001\n",
        "#OPTIMIZER = optimizers.SGD(learning_rate=LEARNING_RATE)\n",
        "OPTIMIZER = optimizers.Adam(learning_rate=LEARNING_RATE)\n",
        "#OPTIMIZER = optimizers.Adagrad(learning_rate=LEARNING_RATE)\n",
        "#OPTIMIZER = optimizers.RMSprop(learning_rate=LEARNING_RATE)\n",
        "BATCH_SIZE = 64\n",
        "EPOCHS = 20\n"
      ],
      "metadata": {
        "id": "blhegL_q6XWB"
      },
      "id": "blhegL_q6XWB",
      "execution_count": null,
      "outputs": []
    },
    {
      "cell_type": "code",
      "execution_count": null,
      "id": "9109d9e7",
      "metadata": {
        "id": "9109d9e7"
      },
      "outputs": [],
      "source": [
        "def parse(path):\n",
        "    print(path)\n",
        "    f = gzip.open(path, 'r')\n",
        "    for line in f:\n",
        "        yield eval(line)\n",
        "    f.close()\n",
        "\n",
        "def getDF(path):\n",
        "    index = 0\n",
        "    df = {}\n",
        "    for file in os.listdir(path):\n",
        "        if file[0] != '.':\n",
        "            for fileData in parse(path + '/' + file):\n",
        "                df[index] = fileData\n",
        "                index += 1\n",
        "    return pd.DataFrame.from_dict(df, orient='index')\n",
        "\n",
        "def decontracted(phrase):\n",
        "    phrase = re.sub(r\"won't\", \"will not\", phrase)\n",
        "    phrase = re.sub(r\"can\\'t\", \"can not\", phrase)\n",
        "\n",
        "    phrase = re.sub(r\"n\\'t\", \" not\", phrase)\n",
        "    phrase = re.sub(r\"\\'re\", \" are\", phrase)\n",
        "    phrase = re.sub(r\"\\'s\", \" is\", phrase)\n",
        "    phrase = re.sub(r\"\\'d\", \" would\", phrase)\n",
        "    phrase = re.sub(r\"\\'ll\", \" will\", phrase)\n",
        "    phrase = re.sub(r\"\\'t\", \" not\", phrase)\n",
        "    phrase = re.sub(r\"\\'ve\", \" have\", phrase)\n",
        "    phrase = re.sub(r\"\\'m\", \" am\", phrase)\n",
        "    return phrase\n",
        "\n",
        "def filter_ques_ans(clean_questions, clean_answers):\n",
        "    short_questions_temp = []\n",
        "    short_answers_temp = []\n",
        "    for i, question in enumerate(clean_questions):\n",
        "        if len(question.split()) >= minimum_length_q and len(question.split()) <= maximum_length_q:\n",
        "            short_questions_temp.append(question)\n",
        "            short_answers_temp.append(clean_answers[i])\n",
        "    short_questions = []\n",
        "    short_answers = []\n",
        "    for i, answer in enumerate(short_answers_temp):\n",
        "        if len(answer.split()) >= minimum_length_a and len(answer.split()) <= maximum_length_a:\n",
        "            short_answers.append(answer)\n",
        "            short_questions.append(short_questions_temp[i])\n",
        "    return short_questions, short_answers\n",
        "\n",
        "def create_vocabulary(tokenized_ques,tokenized_ans):\n",
        "    vocabulary = {}\n",
        "    for question in tokenized_ques:\n",
        "        for word in question:\n",
        "            if word not in vocabulary:\n",
        "                vocabulary[word] = 1\n",
        "            else:\n",
        "                vocabulary[word] += 1\n",
        "    for answer in tokenized_ans:\n",
        "        for word in answer:\n",
        "            if word not in vocabulary:\n",
        "                vocabulary[word] = 1\n",
        "            else:\n",
        "                vocabulary[word] += 1  \n",
        "    return vocabulary\n",
        "\n",
        "def create_encoding_decoding(vocabulary):\n",
        "    threshold = 15\n",
        "    vocab_size  = 1\n",
        "    encoding = {}\n",
        "    decoding = {}\n",
        "    for word, count in vocabulary.items():\n",
        "        if count >= threshold:\n",
        "            encoding[word] = vocab_size \n",
        "            decoding[vocab_size] = word\n",
        "            vocab_size += 1\n",
        "    return encoding, decoding, vocab_size\n",
        "\n",
        "def transform(encoding, data, vector_size = 30):\n",
        "    transformed_data = np.zeros(shape=(len(data), vector_size))\n",
        "    for i in range(len(data)):\n",
        "        for j in range(min(len(data[i]), vector_size)):\n",
        "            try:\n",
        "                transformed_data[i][j] = encoding[data[i][j]]\n",
        "            except:\n",
        "                transformed_data[i][j] = encoding['<UNKNOWN>']\n",
        "    return transformed_data\n",
        "\n",
        "def filter_unknown(encoding, data):\n",
        "    result = []\n",
        "    for i in data:\n",
        "        sent = []\n",
        "        for j in i:\n",
        "            if j in encoding:\n",
        "                sent.append(j)\n",
        "            else:\n",
        "                sent.append('<UNKNOWN>')\n",
        "        result.append(sent)\n",
        "    return result\n",
        "\n",
        "def create_gloveEmbeddings(encoding,size):\n",
        "    file = open(GLOVE_MODEL, mode='rt', encoding='utf8')\n",
        "    words = set()\n",
        "    word_to_vec_map = {}\n",
        "    for line in file:\n",
        "        line = line.strip().split()\n",
        "        word = line[0]\n",
        "        words.add(word)\n",
        "        word_to_vec_map[word] = np.array(line[1:], dtype=np.float64)\n",
        "    embedding_matrix = np.zeros((size, 50))\n",
        "    for word,index in encoding.items():\n",
        "        try:\n",
        "            embedding_matrix[index, :] = word_to_vec_map[word.lower()]\n",
        "        except: continue\n",
        "    return embedding_matrix\n",
        "\n",
        "def create_model(dict_size,embed_layer,hidden_dim):\n",
        "    \n",
        "    encoder_inputs = Input(shape=(maximum_length_q, ), dtype='int32',)\n",
        "\n",
        "    encoder_embedding = embed_layer(encoder_inputs)\n",
        "    encoder_LSTM = LSTM(hidden_dim, return_sequences=True, return_state=True)\n",
        "    encoder_outputs, state_h, state_c = encoder_LSTM(encoder_embedding)\n",
        "\n",
        "    decoder_inputs = Input(shape=(OUTPUT_VECTOR_LENGTH, ), dtype='int32',)\n",
        "\n",
        "    decoder_embedding = embed_layer(decoder_inputs)\n",
        "    decoder_LSTM = LSTM(hidden_dim, return_state=True, return_sequences=True)\n",
        "    decoder_outputs, _, _ = decoder_LSTM(decoder_embedding, initial_state=[state_h, state_c])\n",
        "    dense = Dense(dict_size, activation='softmax')\n",
        "    outputs = (dense)(decoder_outputs)\n",
        "    # outputs = Dense(dict_size, activation='softmax')(decoder_outputs)\n",
        "    \n",
        "    model = Model([encoder_inputs, decoder_inputs], outputs)\n",
        "    return model\n",
        "def answer_mod(answers):\n",
        "    ans = []\n",
        "    for sen in answers:\n",
        "        sen = np.concatenate(([SOS], sen, [EOS]))\n",
        "        ans.append(sen)\n",
        "    return np.array(ans)\n",
        "def data_cleaning(raw_data):\n",
        "    clean_data = []\n",
        "    for sentence in raw_data:\n",
        "        sent = decontracted(sentence)\n",
        "        sent = sent.replace('\\\\r', ' ')\n",
        "        sent = sent.replace('\\\\\"', ' ')\n",
        "        sent = sent.replace('\\\\n', ' ')\n",
        "        sent = re.sub('[^A-Za-z0-9]+', ' ', sent)\n",
        "        sent = sent.lower().strip()\n",
        "        clean_data.append(sent)\n",
        "    return clean_data"
      ]
    },
    {
      "cell_type": "code",
      "execution_count": null,
      "id": "0e193c7e",
      "metadata": {
        "colab": {
          "base_uri": "https://localhost:8080/"
        },
        "id": "0e193c7e",
        "outputId": "0f79735b-8f8b-423a-aad4-257c2e31e27b"
      },
      "outputs": [
        {
          "output_type": "stream",
          "name": "stdout",
          "text": [
            "Data/qa_Appliances.json.gz\n",
            "Data/qa_Automotive.json.gz\n",
            "Data/qa_Arts_Crafts_and_Sewing.json.gz\n",
            "Data/qa_Baby.json.gz\n"
          ]
        }
      ],
      "source": [
        "fileList = []\n",
        "for file in os.listdir('Data'):\n",
        "    fileList.append(file)\n",
        "df = getDF('Data')    \n",
        "df = df[[\"question\",\"answer\"]]   \n",
        "allQuestion = df['question'].tolist()\n",
        "allAnswer = df['answer'].tolist()\n",
        "allQuestion, allAnswer = shuffle(allQuestion, allAnswer)\n",
        "# random.shuffle(allQuestion)\n",
        "# random.shuffle(allAnswer)\n",
        "fixDictSize = 0"
      ]
    },
    {
      "cell_type": "code",
      "source": [
        "df.head(5)"
      ],
      "metadata": {
        "id": "CelPvdqIchtj",
        "colab": {
          "base_uri": "https://localhost:8080/",
          "height": 206
        },
        "outputId": "8ed58eec-f5c4-498a-aa87-ccb2bbc393d0"
      },
      "id": "CelPvdqIchtj",
      "execution_count": null,
      "outputs": [
        {
          "output_type": "execute_result",
          "data": {
            "text/plain": [
              "                                            question  \\\n",
              "0  I have a 9 year old Badger 1 that needs replac...   \n",
              "1                                       model number   \n",
              "2  can I replace Badger 1 1/3 with a Badger 5 1/2...   \n",
              "3  Does this come with power cord and dishwasher ...   \n",
              "4  loud noise inside when turned on. sounds like ...   \n",
              "\n",
              "                                              answer  \n",
              "0   I replaced my old one with this without a hitch.  \n",
              "1  This may help InSinkErator Model BADGER-1: Bad...  \n",
              "2  Plumbing connections will vary with different ...  \n",
              "3  It does not come with a power cord. It does co...  \n",
              "4  Check if you dropped something inside.Usually ...  "
            ],
            "text/html": [
              "\n",
              "  <div id=\"df-476ebe3c-de2d-441a-bc3d-f53372fa2f7e\">\n",
              "    <div class=\"colab-df-container\">\n",
              "      <div>\n",
              "<style scoped>\n",
              "    .dataframe tbody tr th:only-of-type {\n",
              "        vertical-align: middle;\n",
              "    }\n",
              "\n",
              "    .dataframe tbody tr th {\n",
              "        vertical-align: top;\n",
              "    }\n",
              "\n",
              "    .dataframe thead th {\n",
              "        text-align: right;\n",
              "    }\n",
              "</style>\n",
              "<table border=\"1\" class=\"dataframe\">\n",
              "  <thead>\n",
              "    <tr style=\"text-align: right;\">\n",
              "      <th></th>\n",
              "      <th>question</th>\n",
              "      <th>answer</th>\n",
              "    </tr>\n",
              "  </thead>\n",
              "  <tbody>\n",
              "    <tr>\n",
              "      <th>0</th>\n",
              "      <td>I have a 9 year old Badger 1 that needs replac...</td>\n",
              "      <td>I replaced my old one with this without a hitch.</td>\n",
              "    </tr>\n",
              "    <tr>\n",
              "      <th>1</th>\n",
              "      <td>model number</td>\n",
              "      <td>This may help InSinkErator Model BADGER-1: Bad...</td>\n",
              "    </tr>\n",
              "    <tr>\n",
              "      <th>2</th>\n",
              "      <td>can I replace Badger 1 1/3 with a Badger 5 1/2...</td>\n",
              "      <td>Plumbing connections will vary with different ...</td>\n",
              "    </tr>\n",
              "    <tr>\n",
              "      <th>3</th>\n",
              "      <td>Does this come with power cord and dishwasher ...</td>\n",
              "      <td>It does not come with a power cord. It does co...</td>\n",
              "    </tr>\n",
              "    <tr>\n",
              "      <th>4</th>\n",
              "      <td>loud noise inside when turned on. sounds like ...</td>\n",
              "      <td>Check if you dropped something inside.Usually ...</td>\n",
              "    </tr>\n",
              "  </tbody>\n",
              "</table>\n",
              "</div>\n",
              "      <button class=\"colab-df-convert\" onclick=\"convertToInteractive('df-476ebe3c-de2d-441a-bc3d-f53372fa2f7e')\"\n",
              "              title=\"Convert this dataframe to an interactive table.\"\n",
              "              style=\"display:none;\">\n",
              "        \n",
              "  <svg xmlns=\"http://www.w3.org/2000/svg\" height=\"24px\"viewBox=\"0 0 24 24\"\n",
              "       width=\"24px\">\n",
              "    <path d=\"M0 0h24v24H0V0z\" fill=\"none\"/>\n",
              "    <path d=\"M18.56 5.44l.94 2.06.94-2.06 2.06-.94-2.06-.94-.94-2.06-.94 2.06-2.06.94zm-11 1L8.5 8.5l.94-2.06 2.06-.94-2.06-.94L8.5 2.5l-.94 2.06-2.06.94zm10 10l.94 2.06.94-2.06 2.06-.94-2.06-.94-.94-2.06-.94 2.06-2.06.94z\"/><path d=\"M17.41 7.96l-1.37-1.37c-.4-.4-.92-.59-1.43-.59-.52 0-1.04.2-1.43.59L10.3 9.45l-7.72 7.72c-.78.78-.78 2.05 0 2.83L4 21.41c.39.39.9.59 1.41.59.51 0 1.02-.2 1.41-.59l7.78-7.78 2.81-2.81c.8-.78.8-2.07 0-2.86zM5.41 20L4 18.59l7.72-7.72 1.47 1.35L5.41 20z\"/>\n",
              "  </svg>\n",
              "      </button>\n",
              "      \n",
              "  <style>\n",
              "    .colab-df-container {\n",
              "      display:flex;\n",
              "      flex-wrap:wrap;\n",
              "      gap: 12px;\n",
              "    }\n",
              "\n",
              "    .colab-df-convert {\n",
              "      background-color: #E8F0FE;\n",
              "      border: none;\n",
              "      border-radius: 50%;\n",
              "      cursor: pointer;\n",
              "      display: none;\n",
              "      fill: #1967D2;\n",
              "      height: 32px;\n",
              "      padding: 0 0 0 0;\n",
              "      width: 32px;\n",
              "    }\n",
              "\n",
              "    .colab-df-convert:hover {\n",
              "      background-color: #E2EBFA;\n",
              "      box-shadow: 0px 1px 2px rgba(60, 64, 67, 0.3), 0px 1px 3px 1px rgba(60, 64, 67, 0.15);\n",
              "      fill: #174EA6;\n",
              "    }\n",
              "\n",
              "    [theme=dark] .colab-df-convert {\n",
              "      background-color: #3B4455;\n",
              "      fill: #D2E3FC;\n",
              "    }\n",
              "\n",
              "    [theme=dark] .colab-df-convert:hover {\n",
              "      background-color: #434B5C;\n",
              "      box-shadow: 0px 1px 3px 1px rgba(0, 0, 0, 0.15);\n",
              "      filter: drop-shadow(0px 1px 2px rgba(0, 0, 0, 0.3));\n",
              "      fill: #FFFFFF;\n",
              "    }\n",
              "  </style>\n",
              "\n",
              "      <script>\n",
              "        const buttonEl =\n",
              "          document.querySelector('#df-476ebe3c-de2d-441a-bc3d-f53372fa2f7e button.colab-df-convert');\n",
              "        buttonEl.style.display =\n",
              "          google.colab.kernel.accessAllowed ? 'block' : 'none';\n",
              "\n",
              "        async function convertToInteractive(key) {\n",
              "          const element = document.querySelector('#df-476ebe3c-de2d-441a-bc3d-f53372fa2f7e');\n",
              "          const dataTable =\n",
              "            await google.colab.kernel.invokeFunction('convertToInteractive',\n",
              "                                                     [key], {});\n",
              "          if (!dataTable) return;\n",
              "\n",
              "          const docLinkHtml = 'Like what you see? Visit the ' +\n",
              "            '<a target=\"_blank\" href=https://colab.research.google.com/notebooks/data_table.ipynb>data table notebook</a>'\n",
              "            + ' to learn more about interactive tables.';\n",
              "          element.innerHTML = '';\n",
              "          dataTable['output_type'] = 'display_data';\n",
              "          await google.colab.output.renderOutput(dataTable, element);\n",
              "          const docLink = document.createElement('div');\n",
              "          docLink.innerHTML = docLinkHtml;\n",
              "          element.appendChild(docLink);\n",
              "        }\n",
              "      </script>\n",
              "    </div>\n",
              "  </div>\n",
              "  "
            ]
          },
          "metadata": {},
          "execution_count": 5
        }
      ]
    },
    {
      "cell_type": "code",
      "execution_count": null,
      "id": "8c454b90",
      "metadata": {
        "id": "8c454b90",
        "colab": {
          "base_uri": "https://localhost:8080/"
        },
        "outputId": "8f104984-4551-45df-be78-54c933e885f5"
      },
      "outputs": [
        {
          "output_type": "stream",
          "name": "stderr",
          "text": [
            "<ipython-input-3-aeefa67a28d0>:137: VisibleDeprecationWarning: Creating an ndarray from ragged nested sequences (which is a list-or-tuple of lists-or-tuples-or ndarrays with different lengths or shapes) is deprecated. If you meant to do this, you must specify 'dtype=object' when creating the ndarray.\n",
            "  return np.array(ans)\n"
          ]
        }
      ],
      "source": [
        "question = allQuestion\n",
        "answer = allAnswer\n",
        "\n",
        "questionData = data_cleaning(question)\n",
        "answerData = data_cleaning(answer)\n",
        "questionData, answerData = filter_ques_ans(questionData, answerData)\n",
        "questionTokenized = [nltk.word_tokenize(sent) for sent in questionData]\n",
        "answerTokenized = [nltk.word_tokenize(sent) for sent in answerData]\n",
        "# answerTokenized = answer_mod(answerTokenized)\n",
        "vocabulary = create_vocabulary(questionTokenized, answerTokenized)\n",
        "answerTokenized = answer_mod(answerTokenized) # modify the answer text"
      ]
    },
    {
      "cell_type": "code",
      "source": [
        "pd.DataFrame(answerTokenized).rename(columns={0: 'answer'}).head(5)"
      ],
      "metadata": {
        "colab": {
          "base_uri": "https://localhost:8080/",
          "height": 206
        },
        "id": "J3_mly_3AOnS",
        "outputId": "1030221f-41b5-440d-ecec-135d65abcd7b"
      },
      "id": "J3_mly_3AOnS",
      "execution_count": null,
      "outputs": [
        {
          "output_type": "execute_result",
          "data": {
            "text/plain": [
              "                                              answer\n",
              "0  [<SOS>, did, youu, trying, the, company, websi...\n",
              "1                     [<SOS>, single, outlet, <EOS>]\n",
              "2                      [<SOS>, yes, it, will, <EOS>]\n",
              "3             [<SOS>, it, is, sold, by, pair, <EOS>]\n",
              "4         [<SOS>, yes, it, does, no, problem, <EOS>]"
            ],
            "text/html": [
              "\n",
              "  <div id=\"df-393b5ce6-6047-4193-a418-ad8b1503d52a\">\n",
              "    <div class=\"colab-df-container\">\n",
              "      <div>\n",
              "<style scoped>\n",
              "    .dataframe tbody tr th:only-of-type {\n",
              "        vertical-align: middle;\n",
              "    }\n",
              "\n",
              "    .dataframe tbody tr th {\n",
              "        vertical-align: top;\n",
              "    }\n",
              "\n",
              "    .dataframe thead th {\n",
              "        text-align: right;\n",
              "    }\n",
              "</style>\n",
              "<table border=\"1\" class=\"dataframe\">\n",
              "  <thead>\n",
              "    <tr style=\"text-align: right;\">\n",
              "      <th></th>\n",
              "      <th>answer</th>\n",
              "    </tr>\n",
              "  </thead>\n",
              "  <tbody>\n",
              "    <tr>\n",
              "      <th>0</th>\n",
              "      <td>[&lt;SOS&gt;, did, youu, trying, the, company, websi...</td>\n",
              "    </tr>\n",
              "    <tr>\n",
              "      <th>1</th>\n",
              "      <td>[&lt;SOS&gt;, single, outlet, &lt;EOS&gt;]</td>\n",
              "    </tr>\n",
              "    <tr>\n",
              "      <th>2</th>\n",
              "      <td>[&lt;SOS&gt;, yes, it, will, &lt;EOS&gt;]</td>\n",
              "    </tr>\n",
              "    <tr>\n",
              "      <th>3</th>\n",
              "      <td>[&lt;SOS&gt;, it, is, sold, by, pair, &lt;EOS&gt;]</td>\n",
              "    </tr>\n",
              "    <tr>\n",
              "      <th>4</th>\n",
              "      <td>[&lt;SOS&gt;, yes, it, does, no, problem, &lt;EOS&gt;]</td>\n",
              "    </tr>\n",
              "  </tbody>\n",
              "</table>\n",
              "</div>\n",
              "      <button class=\"colab-df-convert\" onclick=\"convertToInteractive('df-393b5ce6-6047-4193-a418-ad8b1503d52a')\"\n",
              "              title=\"Convert this dataframe to an interactive table.\"\n",
              "              style=\"display:none;\">\n",
              "        \n",
              "  <svg xmlns=\"http://www.w3.org/2000/svg\" height=\"24px\"viewBox=\"0 0 24 24\"\n",
              "       width=\"24px\">\n",
              "    <path d=\"M0 0h24v24H0V0z\" fill=\"none\"/>\n",
              "    <path d=\"M18.56 5.44l.94 2.06.94-2.06 2.06-.94-2.06-.94-.94-2.06-.94 2.06-2.06.94zm-11 1L8.5 8.5l.94-2.06 2.06-.94-2.06-.94L8.5 2.5l-.94 2.06-2.06.94zm10 10l.94 2.06.94-2.06 2.06-.94-2.06-.94-.94-2.06-.94 2.06-2.06.94z\"/><path d=\"M17.41 7.96l-1.37-1.37c-.4-.4-.92-.59-1.43-.59-.52 0-1.04.2-1.43.59L10.3 9.45l-7.72 7.72c-.78.78-.78 2.05 0 2.83L4 21.41c.39.39.9.59 1.41.59.51 0 1.02-.2 1.41-.59l7.78-7.78 2.81-2.81c.8-.78.8-2.07 0-2.86zM5.41 20L4 18.59l7.72-7.72 1.47 1.35L5.41 20z\"/>\n",
              "  </svg>\n",
              "      </button>\n",
              "      \n",
              "  <style>\n",
              "    .colab-df-container {\n",
              "      display:flex;\n",
              "      flex-wrap:wrap;\n",
              "      gap: 12px;\n",
              "    }\n",
              "\n",
              "    .colab-df-convert {\n",
              "      background-color: #E8F0FE;\n",
              "      border: none;\n",
              "      border-radius: 50%;\n",
              "      cursor: pointer;\n",
              "      display: none;\n",
              "      fill: #1967D2;\n",
              "      height: 32px;\n",
              "      padding: 0 0 0 0;\n",
              "      width: 32px;\n",
              "    }\n",
              "\n",
              "    .colab-df-convert:hover {\n",
              "      background-color: #E2EBFA;\n",
              "      box-shadow: 0px 1px 2px rgba(60, 64, 67, 0.3), 0px 1px 3px 1px rgba(60, 64, 67, 0.15);\n",
              "      fill: #174EA6;\n",
              "    }\n",
              "\n",
              "    [theme=dark] .colab-df-convert {\n",
              "      background-color: #3B4455;\n",
              "      fill: #D2E3FC;\n",
              "    }\n",
              "\n",
              "    [theme=dark] .colab-df-convert:hover {\n",
              "      background-color: #434B5C;\n",
              "      box-shadow: 0px 1px 3px 1px rgba(0, 0, 0, 0.15);\n",
              "      filter: drop-shadow(0px 1px 2px rgba(0, 0, 0, 0.3));\n",
              "      fill: #FFFFFF;\n",
              "    }\n",
              "  </style>\n",
              "\n",
              "      <script>\n",
              "        const buttonEl =\n",
              "          document.querySelector('#df-393b5ce6-6047-4193-a418-ad8b1503d52a button.colab-df-convert');\n",
              "        buttonEl.style.display =\n",
              "          google.colab.kernel.accessAllowed ? 'block' : 'none';\n",
              "\n",
              "        async function convertToInteractive(key) {\n",
              "          const element = document.querySelector('#df-393b5ce6-6047-4193-a418-ad8b1503d52a');\n",
              "          const dataTable =\n",
              "            await google.colab.kernel.invokeFunction('convertToInteractive',\n",
              "                                                     [key], {});\n",
              "          if (!dataTable) return;\n",
              "\n",
              "          const docLinkHtml = 'Like what you see? Visit the ' +\n",
              "            '<a target=\"_blank\" href=https://colab.research.google.com/notebooks/data_table.ipynb>data table notebook</a>'\n",
              "            + ' to learn more about interactive tables.';\n",
              "          element.innerHTML = '';\n",
              "          dataTable['output_type'] = 'display_data';\n",
              "          await google.colab.output.renderOutput(dataTable, element);\n",
              "          const docLink = document.createElement('div');\n",
              "          docLink.innerHTML = docLinkHtml;\n",
              "          element.appendChild(docLink);\n",
              "        }\n",
              "      </script>\n",
              "    </div>\n",
              "  </div>\n",
              "  "
            ]
          },
          "metadata": {},
          "execution_count": 7
        }
      ]
    },
    {
      "cell_type": "code",
      "source": [
        "pd.DataFrame(questionData).rename(columns={0: 'question'}).head(5)"
      ],
      "metadata": {
        "colab": {
          "base_uri": "https://localhost:8080/",
          "height": 206
        },
        "id": "RXZ_Vh7kAXpm",
        "outputId": "92415bd5-cffb-4612-cd44-62eae652b1f0"
      },
      "id": "RXZ_Vh7kAXpm",
      "execution_count": null,
      "outputs": [
        {
          "output_type": "execute_result",
          "data": {
            "text/plain": [
              "                                            question\n",
              "0  where can i purchase an ac adapter for a wagan...\n",
              "1                 is this a 10 pack or single outlet\n",
              "2  will this add the feature of auto off headligh...\n",
              "3          confirming is this sold as pair or single\n",
              "4               will this work on 1999 toyota tacoma"
            ],
            "text/html": [
              "\n",
              "  <div id=\"df-bcdab994-3727-4922-9ce7-347923b41b20\">\n",
              "    <div class=\"colab-df-container\">\n",
              "      <div>\n",
              "<style scoped>\n",
              "    .dataframe tbody tr th:only-of-type {\n",
              "        vertical-align: middle;\n",
              "    }\n",
              "\n",
              "    .dataframe tbody tr th {\n",
              "        vertical-align: top;\n",
              "    }\n",
              "\n",
              "    .dataframe thead th {\n",
              "        text-align: right;\n",
              "    }\n",
              "</style>\n",
              "<table border=\"1\" class=\"dataframe\">\n",
              "  <thead>\n",
              "    <tr style=\"text-align: right;\">\n",
              "      <th></th>\n",
              "      <th>question</th>\n",
              "    </tr>\n",
              "  </thead>\n",
              "  <tbody>\n",
              "    <tr>\n",
              "      <th>0</th>\n",
              "      <td>where can i purchase an ac adapter for a wagan...</td>\n",
              "    </tr>\n",
              "    <tr>\n",
              "      <th>1</th>\n",
              "      <td>is this a 10 pack or single outlet</td>\n",
              "    </tr>\n",
              "    <tr>\n",
              "      <th>2</th>\n",
              "      <td>will this add the feature of auto off headligh...</td>\n",
              "    </tr>\n",
              "    <tr>\n",
              "      <th>3</th>\n",
              "      <td>confirming is this sold as pair or single</td>\n",
              "    </tr>\n",
              "    <tr>\n",
              "      <th>4</th>\n",
              "      <td>will this work on 1999 toyota tacoma</td>\n",
              "    </tr>\n",
              "  </tbody>\n",
              "</table>\n",
              "</div>\n",
              "      <button class=\"colab-df-convert\" onclick=\"convertToInteractive('df-bcdab994-3727-4922-9ce7-347923b41b20')\"\n",
              "              title=\"Convert this dataframe to an interactive table.\"\n",
              "              style=\"display:none;\">\n",
              "        \n",
              "  <svg xmlns=\"http://www.w3.org/2000/svg\" height=\"24px\"viewBox=\"0 0 24 24\"\n",
              "       width=\"24px\">\n",
              "    <path d=\"M0 0h24v24H0V0z\" fill=\"none\"/>\n",
              "    <path d=\"M18.56 5.44l.94 2.06.94-2.06 2.06-.94-2.06-.94-.94-2.06-.94 2.06-2.06.94zm-11 1L8.5 8.5l.94-2.06 2.06-.94-2.06-.94L8.5 2.5l-.94 2.06-2.06.94zm10 10l.94 2.06.94-2.06 2.06-.94-2.06-.94-.94-2.06-.94 2.06-2.06.94z\"/><path d=\"M17.41 7.96l-1.37-1.37c-.4-.4-.92-.59-1.43-.59-.52 0-1.04.2-1.43.59L10.3 9.45l-7.72 7.72c-.78.78-.78 2.05 0 2.83L4 21.41c.39.39.9.59 1.41.59.51 0 1.02-.2 1.41-.59l7.78-7.78 2.81-2.81c.8-.78.8-2.07 0-2.86zM5.41 20L4 18.59l7.72-7.72 1.47 1.35L5.41 20z\"/>\n",
              "  </svg>\n",
              "      </button>\n",
              "      \n",
              "  <style>\n",
              "    .colab-df-container {\n",
              "      display:flex;\n",
              "      flex-wrap:wrap;\n",
              "      gap: 12px;\n",
              "    }\n",
              "\n",
              "    .colab-df-convert {\n",
              "      background-color: #E8F0FE;\n",
              "      border: none;\n",
              "      border-radius: 50%;\n",
              "      cursor: pointer;\n",
              "      display: none;\n",
              "      fill: #1967D2;\n",
              "      height: 32px;\n",
              "      padding: 0 0 0 0;\n",
              "      width: 32px;\n",
              "    }\n",
              "\n",
              "    .colab-df-convert:hover {\n",
              "      background-color: #E2EBFA;\n",
              "      box-shadow: 0px 1px 2px rgba(60, 64, 67, 0.3), 0px 1px 3px 1px rgba(60, 64, 67, 0.15);\n",
              "      fill: #174EA6;\n",
              "    }\n",
              "\n",
              "    [theme=dark] .colab-df-convert {\n",
              "      background-color: #3B4455;\n",
              "      fill: #D2E3FC;\n",
              "    }\n",
              "\n",
              "    [theme=dark] .colab-df-convert:hover {\n",
              "      background-color: #434B5C;\n",
              "      box-shadow: 0px 1px 3px 1px rgba(0, 0, 0, 0.15);\n",
              "      filter: drop-shadow(0px 1px 2px rgba(0, 0, 0, 0.3));\n",
              "      fill: #FFFFFF;\n",
              "    }\n",
              "  </style>\n",
              "\n",
              "      <script>\n",
              "        const buttonEl =\n",
              "          document.querySelector('#df-bcdab994-3727-4922-9ce7-347923b41b20 button.colab-df-convert');\n",
              "        buttonEl.style.display =\n",
              "          google.colab.kernel.accessAllowed ? 'block' : 'none';\n",
              "\n",
              "        async function convertToInteractive(key) {\n",
              "          const element = document.querySelector('#df-bcdab994-3727-4922-9ce7-347923b41b20');\n",
              "          const dataTable =\n",
              "            await google.colab.kernel.invokeFunction('convertToInteractive',\n",
              "                                                     [key], {});\n",
              "          if (!dataTable) return;\n",
              "\n",
              "          const docLinkHtml = 'Like what you see? Visit the ' +\n",
              "            '<a target=\"_blank\" href=https://colab.research.google.com/notebooks/data_table.ipynb>data table notebook</a>'\n",
              "            + ' to learn more about interactive tables.';\n",
              "          element.innerHTML = '';\n",
              "          dataTable['output_type'] = 'display_data';\n",
              "          await google.colab.output.renderOutput(dataTable, element);\n",
              "          const docLink = document.createElement('div');\n",
              "          docLink.innerHTML = docLinkHtml;\n",
              "          element.appendChild(docLink);\n",
              "        }\n",
              "      </script>\n",
              "    </div>\n",
              "  </div>\n",
              "  "
            ]
          },
          "metadata": {},
          "execution_count": 8
        }
      ]
    },
    {
      "cell_type": "code",
      "source": [
        "clean_df = pd.DataFrame()\n",
        "clean_df['Question'] = pd.DataFrame(questionData)\n",
        "clean_df['Answer'] = pd.DataFrame(answerTokenized)\n",
        "clean_df.head(5)"
      ],
      "metadata": {
        "colab": {
          "base_uri": "https://localhost:8080/",
          "height": 206
        },
        "id": "vSLWqDAWw-YF",
        "outputId": "1308ca16-6bc0-4264-ade6-6df612541331"
      },
      "id": "vSLWqDAWw-YF",
      "execution_count": null,
      "outputs": [
        {
          "output_type": "execute_result",
          "data": {
            "text/plain": [
              "                                            Question  \\\n",
              "0  where can i purchase an ac adapter for a wagan...   \n",
              "1                 is this a 10 pack or single outlet   \n",
              "2  will this add the feature of auto off headligh...   \n",
              "3          confirming is this sold as pair or single   \n",
              "4               will this work on 1999 toyota tacoma   \n",
              "\n",
              "                                              Answer  \n",
              "0  [<SOS>, did, youu, trying, the, company, websi...  \n",
              "1                     [<SOS>, single, outlet, <EOS>]  \n",
              "2                      [<SOS>, yes, it, will, <EOS>]  \n",
              "3             [<SOS>, it, is, sold, by, pair, <EOS>]  \n",
              "4         [<SOS>, yes, it, does, no, problem, <EOS>]  "
            ],
            "text/html": [
              "\n",
              "  <div id=\"df-c084f8e7-ec13-4976-bccf-0b14cfad3648\">\n",
              "    <div class=\"colab-df-container\">\n",
              "      <div>\n",
              "<style scoped>\n",
              "    .dataframe tbody tr th:only-of-type {\n",
              "        vertical-align: middle;\n",
              "    }\n",
              "\n",
              "    .dataframe tbody tr th {\n",
              "        vertical-align: top;\n",
              "    }\n",
              "\n",
              "    .dataframe thead th {\n",
              "        text-align: right;\n",
              "    }\n",
              "</style>\n",
              "<table border=\"1\" class=\"dataframe\">\n",
              "  <thead>\n",
              "    <tr style=\"text-align: right;\">\n",
              "      <th></th>\n",
              "      <th>Question</th>\n",
              "      <th>Answer</th>\n",
              "    </tr>\n",
              "  </thead>\n",
              "  <tbody>\n",
              "    <tr>\n",
              "      <th>0</th>\n",
              "      <td>where can i purchase an ac adapter for a wagan...</td>\n",
              "      <td>[&lt;SOS&gt;, did, youu, trying, the, company, websi...</td>\n",
              "    </tr>\n",
              "    <tr>\n",
              "      <th>1</th>\n",
              "      <td>is this a 10 pack or single outlet</td>\n",
              "      <td>[&lt;SOS&gt;, single, outlet, &lt;EOS&gt;]</td>\n",
              "    </tr>\n",
              "    <tr>\n",
              "      <th>2</th>\n",
              "      <td>will this add the feature of auto off headligh...</td>\n",
              "      <td>[&lt;SOS&gt;, yes, it, will, &lt;EOS&gt;]</td>\n",
              "    </tr>\n",
              "    <tr>\n",
              "      <th>3</th>\n",
              "      <td>confirming is this sold as pair or single</td>\n",
              "      <td>[&lt;SOS&gt;, it, is, sold, by, pair, &lt;EOS&gt;]</td>\n",
              "    </tr>\n",
              "    <tr>\n",
              "      <th>4</th>\n",
              "      <td>will this work on 1999 toyota tacoma</td>\n",
              "      <td>[&lt;SOS&gt;, yes, it, does, no, problem, &lt;EOS&gt;]</td>\n",
              "    </tr>\n",
              "  </tbody>\n",
              "</table>\n",
              "</div>\n",
              "      <button class=\"colab-df-convert\" onclick=\"convertToInteractive('df-c084f8e7-ec13-4976-bccf-0b14cfad3648')\"\n",
              "              title=\"Convert this dataframe to an interactive table.\"\n",
              "              style=\"display:none;\">\n",
              "        \n",
              "  <svg xmlns=\"http://www.w3.org/2000/svg\" height=\"24px\"viewBox=\"0 0 24 24\"\n",
              "       width=\"24px\">\n",
              "    <path d=\"M0 0h24v24H0V0z\" fill=\"none\"/>\n",
              "    <path d=\"M18.56 5.44l.94 2.06.94-2.06 2.06-.94-2.06-.94-.94-2.06-.94 2.06-2.06.94zm-11 1L8.5 8.5l.94-2.06 2.06-.94-2.06-.94L8.5 2.5l-.94 2.06-2.06.94zm10 10l.94 2.06.94-2.06 2.06-.94-2.06-.94-.94-2.06-.94 2.06-2.06.94z\"/><path d=\"M17.41 7.96l-1.37-1.37c-.4-.4-.92-.59-1.43-.59-.52 0-1.04.2-1.43.59L10.3 9.45l-7.72 7.72c-.78.78-.78 2.05 0 2.83L4 21.41c.39.39.9.59 1.41.59.51 0 1.02-.2 1.41-.59l7.78-7.78 2.81-2.81c.8-.78.8-2.07 0-2.86zM5.41 20L4 18.59l7.72-7.72 1.47 1.35L5.41 20z\"/>\n",
              "  </svg>\n",
              "      </button>\n",
              "      \n",
              "  <style>\n",
              "    .colab-df-container {\n",
              "      display:flex;\n",
              "      flex-wrap:wrap;\n",
              "      gap: 12px;\n",
              "    }\n",
              "\n",
              "    .colab-df-convert {\n",
              "      background-color: #E8F0FE;\n",
              "      border: none;\n",
              "      border-radius: 50%;\n",
              "      cursor: pointer;\n",
              "      display: none;\n",
              "      fill: #1967D2;\n",
              "      height: 32px;\n",
              "      padding: 0 0 0 0;\n",
              "      width: 32px;\n",
              "    }\n",
              "\n",
              "    .colab-df-convert:hover {\n",
              "      background-color: #E2EBFA;\n",
              "      box-shadow: 0px 1px 2px rgba(60, 64, 67, 0.3), 0px 1px 3px 1px rgba(60, 64, 67, 0.15);\n",
              "      fill: #174EA6;\n",
              "    }\n",
              "\n",
              "    [theme=dark] .colab-df-convert {\n",
              "      background-color: #3B4455;\n",
              "      fill: #D2E3FC;\n",
              "    }\n",
              "\n",
              "    [theme=dark] .colab-df-convert:hover {\n",
              "      background-color: #434B5C;\n",
              "      box-shadow: 0px 1px 3px 1px rgba(0, 0, 0, 0.15);\n",
              "      filter: drop-shadow(0px 1px 2px rgba(0, 0, 0, 0.3));\n",
              "      fill: #FFFFFF;\n",
              "    }\n",
              "  </style>\n",
              "\n",
              "      <script>\n",
              "        const buttonEl =\n",
              "          document.querySelector('#df-c084f8e7-ec13-4976-bccf-0b14cfad3648 button.colab-df-convert');\n",
              "        buttonEl.style.display =\n",
              "          google.colab.kernel.accessAllowed ? 'block' : 'none';\n",
              "\n",
              "        async function convertToInteractive(key) {\n",
              "          const element = document.querySelector('#df-c084f8e7-ec13-4976-bccf-0b14cfad3648');\n",
              "          const dataTable =\n",
              "            await google.colab.kernel.invokeFunction('convertToInteractive',\n",
              "                                                     [key], {});\n",
              "          if (!dataTable) return;\n",
              "\n",
              "          const docLinkHtml = 'Like what you see? Visit the ' +\n",
              "            '<a target=\"_blank\" href=https://colab.research.google.com/notebooks/data_table.ipynb>data table notebook</a>'\n",
              "            + ' to learn more about interactive tables.';\n",
              "          element.innerHTML = '';\n",
              "          dataTable['output_type'] = 'display_data';\n",
              "          await google.colab.output.renderOutput(dataTable, element);\n",
              "          const docLink = document.createElement('div');\n",
              "          docLink.innerHTML = docLinkHtml;\n",
              "          element.appendChild(docLink);\n",
              "        }\n",
              "      </script>\n",
              "    </div>\n",
              "  </div>\n",
              "  "
            ]
          },
          "metadata": {},
          "execution_count": 9
        }
      ]
    },
    {
      "cell_type": "code",
      "execution_count": null,
      "id": "c33aa076",
      "metadata": {
        "id": "c33aa076"
      },
      "outputs": [],
      "source": [
        "encoding, decoding, dict_size = create_encoding_decoding(vocabulary)\n",
        "decoding[0] = '<ERR>'\n",
        "encoding['<ERR>'] = 0\n",
        "decoding[dict_size] = '<UNKNOWN>'\n",
        "encoding['<UNKNOWN>'] = dict_size\n",
        "dict_size += 1\n",
        "decoding[dict_size] = SOS\n",
        "encoding[SOS] = dict_size\n",
        "dict_size += 1\n",
        "decoding[dict_size] = EOS\n",
        "encoding[EOS] = dict_size\n",
        "dict_size += 1\n",
        "fixDictSize = max(fixDictSize, max(int(len(encoding) + 1), dict_size + 1))\n"
      ]
    },
    {
      "cell_type": "code",
      "source": [
        "encoding['<SOS>']"
      ],
      "metadata": {
        "colab": {
          "base_uri": "https://localhost:8080/"
        },
        "id": "YG7qUDTSB0fa",
        "outputId": "911fccfc-07ac-401e-a531-58519408f0fe"
      },
      "id": "YG7qUDTSB0fa",
      "execution_count": null,
      "outputs": [
        {
          "output_type": "execute_result",
          "data": {
            "text/plain": [
              "1247"
            ]
          },
          "metadata": {},
          "execution_count": 11
        }
      ]
    },
    {
      "cell_type": "code",
      "source": [
        "from keras.utils import to_categorical\n",
        "\n",
        "size = len(questionTokenized)\n",
        "trainingInput = questionTokenized[:round(size*(80/100))]\n",
        "trainingOutput = answerTokenized[:round(size*(80/100))]\n",
        "validationInput = questionTokenized[round(size*(80/100)):round(size*(95/100))]\n",
        "validationOutput = answerTokenized[round(size*(80/100)):round(size*(95/100))]\n",
        "testInput = questionTokenized[round(size*(95/100)):]\n",
        "testOutput = answerTokenized[round(size*(95/100)):]\n",
        "\n",
        "\n",
        "encoded_training_input = transform(encoding, trainingInput, vector_size = INPUT_VECTOR_LENGTH)\n",
        "encoded_training_output = transform(encoding, trainingOutput, vector_size = OUTPUT_VECTOR_LENGTH)\n",
        "\n",
        "encoded_validation_input = transform(encoding, validationInput, vector_size = INPUT_VECTOR_LENGTH)\n",
        "encoded_validation_output = transform(encoding, validationOutput, vector_size = OUTPUT_VECTOR_LENGTH)\n",
        "\n",
        "encoded_test_input = transform(encoding, validationInput, vector_size = INPUT_VECTOR_LENGTH)\n",
        "encoded_test_output = transform(encoding, validationOutput, vector_size = OUTPUT_VECTOR_LENGTH)\n",
        "\n",
        "tf.keras.backend.clear_session()\n",
        "embedding_matrix = np.zeros((dict_size, 50))\n",
        "embedding_matrix= create_gloveEmbeddings(encoding,dict_size)\n",
        "\n",
        "embed_layer = Embedding(input_dim = dict_size, output_dim = 50, trainable = True)\n",
        "embed_layer.build((None,))\n",
        "embed_layer.set_weights([embedding_matrix])"
      ],
      "metadata": {
        "id": "SJUwOWlHCHOl"
      },
      "id": "SJUwOWlHCHOl",
      "execution_count": null,
      "outputs": []
    },
    {
      "cell_type": "code",
      "source": [
        "encoder_inputs = Input(shape=(maximum_length_q, ), dtype='int32',)\n",
        "\n",
        "encoder_embedding = embed_layer(encoder_inputs)\n",
        "encoder_LSTM = LSTM(hidden_dim, return_sequences=True, return_state=True)\n",
        "encoder_outputs, state_h, state_c = encoder_LSTM(encoder_embedding)\n",
        "enc_states = [state_h, state_c]\n",
        "decoder_inputs = Input(shape=(OUTPUT_VECTOR_LENGTH, ), dtype='int32',)\n",
        "\n",
        "decoder_embedding = embed_layer(decoder_inputs)\n",
        "decoder_LSTM = LSTM(hidden_dim, return_state=True, return_sequences=True)\n",
        "decoder_outputs, _, _ = decoder_LSTM(decoder_embedding, initial_state=enc_states)\n",
        "dense = Dense(dict_size, activation='softmax')\n",
        "outputs = (dense)(decoder_outputs)"
      ],
      "metadata": {
        "id": "xa2no0TIN1ok"
      },
      "id": "xa2no0TIN1ok",
      "execution_count": null,
      "outputs": []
    },
    {
      "cell_type": "code",
      "execution_count": null,
      "id": "f02e4912",
      "metadata": {
        "colab": {
          "base_uri": "https://localhost:8080/"
        },
        "id": "f02e4912",
        "outputId": "e34acd89-c617-4510-dcf6-4d3354d99efe"
      },
      "outputs": [
        {
          "output_type": "stream",
          "name": "stdout",
          "text": [
            "Model: \"model\"\n",
            "__________________________________________________________________________________________________\n",
            " Layer (type)                   Output Shape         Param #     Connected to                     \n",
            "==================================================================================================\n",
            " input_2 (InputLayer)           [(None, 8)]          0           []                               \n",
            "                                                                                                  \n",
            " input_1 (InputLayer)           [(None, 20)]         0           []                               \n",
            "                                                                                                  \n",
            " embedding (Embedding)          multiple             62450       ['input_1[0][0]',                \n",
            "                                                                  'input_2[0][0]']                \n",
            "                                                                                                  \n",
            " lstm (LSTM)                    [(None, 20, 400),    721600      ['embedding[0][0]']              \n",
            "                                 (None, 400),                                                     \n",
            "                                 (None, 400)]                                                     \n",
            "                                                                                                  \n",
            " lstm_1 (LSTM)                  [(None, 8, 400),     721600      ['embedding[1][0]',              \n",
            "                                 (None, 400),                     'lstm[0][1]',                   \n",
            "                                 (None, 400)]                     'lstm[0][2]']                   \n",
            "                                                                                                  \n",
            " dense (Dense)                  (None, 8, 1249)      500849      ['lstm_1[0][0]']                 \n",
            "                                                                                                  \n",
            "==================================================================================================\n",
            "Total params: 2,006,499\n",
            "Trainable params: 2,006,499\n",
            "Non-trainable params: 0\n",
            "__________________________________________________________________________________________________\n",
            "Epoch 1/20\n",
            "180/180 [==============================] - 7s 15ms/step - loss: 3.8085 - accuracy: 0.4267 - val_loss: 2.9306 - val_accuracy: 0.4811\n",
            "Epoch 2/20\n",
            "180/180 [==============================] - 2s 10ms/step - loss: 2.8610 - accuracy: 0.4898 - val_loss: 2.8235 - val_accuracy: 0.5084\n",
            "Epoch 3/20\n",
            "180/180 [==============================] - 2s 10ms/step - loss: 2.7713 - accuracy: 0.5101 - val_loss: 2.7480 - val_accuracy: 0.5147\n",
            "Epoch 4/20\n",
            "180/180 [==============================] - 2s 10ms/step - loss: 2.6981 - accuracy: 0.5264 - val_loss: 2.6817 - val_accuracy: 0.5318\n",
            "Epoch 5/20\n",
            "180/180 [==============================] - 2s 11ms/step - loss: 2.6315 - accuracy: 0.5383 - val_loss: 2.6222 - val_accuracy: 0.5369\n",
            "Epoch 6/20\n",
            "180/180 [==============================] - 2s 10ms/step - loss: 2.5708 - accuracy: 0.5458 - val_loss: 2.5648 - val_accuracy: 0.5514\n",
            "Epoch 7/20\n",
            "180/180 [==============================] - 2s 10ms/step - loss: 2.5173 - accuracy: 0.5548 - val_loss: 2.5188 - val_accuracy: 0.5590\n",
            "Epoch 8/20\n",
            "180/180 [==============================] - 2s 10ms/step - loss: 2.4710 - accuracy: 0.5628 - val_loss: 2.4754 - val_accuracy: 0.5641\n",
            "Epoch 9/20\n",
            "180/180 [==============================] - 2s 10ms/step - loss: 2.4238 - accuracy: 0.5693 - val_loss: 2.4286 - val_accuracy: 0.5698\n",
            "Epoch 10/20\n",
            "180/180 [==============================] - 2s 10ms/step - loss: 2.3792 - accuracy: 0.5738 - val_loss: 2.3971 - val_accuracy: 0.5746\n",
            "Epoch 11/20\n",
            "180/180 [==============================] - 2s 10ms/step - loss: 2.3421 - accuracy: 0.5791 - val_loss: 2.3617 - val_accuracy: 0.5778\n",
            "Epoch 12/20\n",
            "180/180 [==============================] - 2s 10ms/step - loss: 2.3099 - accuracy: 0.5833 - val_loss: 2.3324 - val_accuracy: 0.5817\n",
            "Epoch 13/20\n",
            "180/180 [==============================] - 2s 10ms/step - loss: 2.2819 - accuracy: 0.5858 - val_loss: 2.3101 - val_accuracy: 0.5819\n",
            "Epoch 14/20\n",
            "180/180 [==============================] - 2s 10ms/step - loss: 2.2560 - accuracy: 0.5884 - val_loss: 2.2891 - val_accuracy: 0.5855\n",
            "Epoch 15/20\n",
            "180/180 [==============================] - 2s 11ms/step - loss: 2.2314 - accuracy: 0.5907 - val_loss: 2.2674 - val_accuracy: 0.5866\n",
            "Epoch 16/20\n",
            "180/180 [==============================] - 2s 10ms/step - loss: 2.2088 - accuracy: 0.5929 - val_loss: 2.2528 - val_accuracy: 0.5869\n",
            "Epoch 17/20\n",
            "180/180 [==============================] - 2s 10ms/step - loss: 2.1876 - accuracy: 0.5941 - val_loss: 2.2333 - val_accuracy: 0.5897\n",
            "Epoch 18/20\n",
            "180/180 [==============================] - 2s 10ms/step - loss: 2.1664 - accuracy: 0.5964 - val_loss: 2.2166 - val_accuracy: 0.5917\n",
            "Epoch 19/20\n",
            "180/180 [==============================] - 2s 10ms/step - loss: 2.1463 - accuracy: 0.5990 - val_loss: 2.2033 - val_accuracy: 0.5933\n",
            "Epoch 20/20\n",
            "180/180 [==============================] - 2s 10ms/step - loss: 2.1274 - accuracy: 0.6009 - val_loss: 2.1872 - val_accuracy: 0.5950\n"
          ]
        }
      ],
      "source": [
        "lstm_model = Model([encoder_inputs, decoder_inputs], outputs)\n",
        "\n",
        "lstm_model.summary()\n",
        "lstm_model.compile(optimizer= OPTIMIZER, loss ='categorical_crossentropy', metrics = ['accuracy'])\n",
        "\n",
        "training_encoder_input = encoded_training_input\n",
        "training_decoder_input = np.zeros_like(encoded_training_output)\n",
        "training_decoder_input = encoded_training_output\n",
        "\n",
        "encoded_training_output = encoded_training_output[:, 1:-1]\n",
        "encoded_training_output = pad_sequences(encoded_training_output, OUTPUT_VECTOR_LENGTH, padding='post', truncating='post')\n",
        "training_decoder_output = to_categorical(encoded_training_output, (dict_size))\n",
        "\n",
        "validation_encoder_input = encoded_validation_input\n",
        "validation_decoder_input = np.zeros_like(encoded_validation_output)\n",
        "validation_decoder_input = encoded_validation_output\n",
        "\n",
        "encoded_validation_output = encoded_validation_output[:, 1:-1]\n",
        "encoded_validation_output = pad_sequences(encoded_validation_output, OUTPUT_VECTOR_LENGTH, padding='post', truncating='post')\n",
        "validation_decoder_output = to_categorical(encoded_validation_output, (dict_size))\n",
        "\n",
        "history = lstm_model.fit(x = [training_encoder_input, training_decoder_input], y = training_decoder_output, validation_data = ([validation_encoder_input, validation_decoder_input], validation_decoder_output), batch_size = BATCH_SIZE, epochs = EPOCHS)\n",
        "lstm_model.save('lstm_model.h5')"
      ]
    },
    {
      "cell_type": "code",
      "source": [
        "plt.plot(history.history['accuracy'])\n",
        "plt.plot(history.history['val_accuracy'])\n",
        "plt.title('model accuracy')\n",
        "plt.ylabel('accuracy')\n",
        "plt.xlabel('epoch')\n",
        "plt.legend(['train', 'validation'], loc='upper left')\n",
        "plt.grid()\n",
        "plt.show()"
      ],
      "metadata": {
        "id": "YXYBJ_m7qMLy",
        "colab": {
          "base_uri": "https://localhost:8080/",
          "height": 295
        },
        "outputId": "1845a20d-2cd8-46e0-e988-9897ffbb0e04"
      },
      "id": "YXYBJ_m7qMLy",
      "execution_count": null,
      "outputs": [
        {
          "output_type": "display_data",
          "data": {
            "text/plain": [
              "<Figure size 432x288 with 1 Axes>"
            ],
            "image/png": "[encoded data removed]"
          },
          "metadata": {
            "needs_background": "light"
          }
        }
      ]
    },
    {
      "cell_type": "code",
      "source": [
        "plt.plot(history.history['loss'])\n",
        "plt.plot(history.history['val_loss'])\n",
        "plt.title('model loss')\n",
        "plt.ylabel('loss')\n",
        "plt.xlabel('epoch')\n",
        "plt.legend(['train', 'validation'], loc='upper left')\n",
        "plt.grid()\n",
        "plt.show()"
      ],
      "metadata": {
        "id": "VwPLq_Jvqs-s",
        "colab": {
          "base_uri": "https://localhost:8080/",
          "height": 295
        },
        "outputId": "db03706d-5600-4aff-efb7-83fd1e097f84"
      },
      "id": "VwPLq_Jvqs-s",
      "execution_count": null,
      "outputs": [
        {
          "output_type": "display_data",
          "data": {
            "text/plain": [
              "<Figure size 432x288 with 1 Axes>"
            ],
            "image/png": "[encoded data removed]"
          },
          "metadata": {
            "needs_background": "light"
          }
        }
      ]
    },
    {
      "cell_type": "code",
      "source": [
        "enc_model = Model([encoder_inputs], enc_states)\n",
        "\n",
        "decoder_state_input_h = Input(shape=(400,))\n",
        "decoder_state_input_c = Input(shape=(400,))\n",
        "\n",
        "decoder_states_inputs = [decoder_state_input_h, decoder_state_input_c]\n",
        "\n",
        "\n",
        "decoder_outputs, state_h, state_c = decoder_LSTM(decoder_embedding , \n",
        "                                    initial_state=decoder_states_inputs)\n",
        "\n",
        "\n",
        "decoder_states = [state_h, state_c]\n",
        "\n",
        "\n",
        "dec_model = Model([decoder_inputs]+ decoder_states_inputs,\n",
        "                                      [decoder_outputs]+ decoder_states)\n",
        "\n"
      ],
      "metadata": {
        "id": "nr-P8tAe4nS0"
      },
      "id": "nr-P8tAe4nS0",
      "execution_count": null,
      "outputs": []
    },
    {
      "cell_type": "code",
      "source": [
        "testInput[0]"
      ],
      "metadata": {
        "colab": {
          "base_uri": "https://localhost:8080/"
        },
        "id": "g8WbeKHtTPzI",
        "outputId": "0ea4052d-ec36-4cae-d69a-222290eba449"
      },
      "id": "g8WbeKHtTPzI",
      "execution_count": null,
      "outputs": [
        {
          "output_type": "execute_result",
          "data": {
            "text/plain": [
              "['will', 'it', 'fit', '4l80e']"
            ]
          },
          "metadata": {},
          "execution_count": 18
        }
      ]
    },
    {
      "cell_type": "code",
      "source": [
        "pred_output = []\n",
        "count = 0\n",
        "for i in testInput:\n",
        "    if count == 10:\n",
        "        break\n",
        "    input_tokens = i\n",
        "    # print(input_tokens)\n",
        "    encoder_input = transform(encoding, [input_tokens], INPUT_VECTOR_LENGTH)\n",
        "    # print(encoder_input)\n",
        "    decoder_input = np.zeros(shape=(len(encoder_input), OUTPUT_VECTOR_LENGTH))\n",
        "    decoder_input[:,0] = encoding[SOS]\n",
        "\n",
        "    stat = enc_model.predict( encoder_input )\n",
        "\n",
        "    empty_target_seq = np.zeros( ( 1 , 1) )\n",
        "    empty_target_seq[0, 0] = encoding['<SOS>']\n",
        "\n",
        "    stop_condition = False\n",
        "    decoded_translation = ''\n",
        "\n",
        "    while not stop_condition :\n",
        "        dec_outputs , h, c= dec_model.predict([ empty_target_seq] + stat )\n",
        "        decoder_concat_input = dense(dec_outputs)\n",
        "        sampled_word_index = np.argmax( decoder_concat_input[0, -1, :] )\n",
        "        sampled_word = decoding[sampled_word_index] + ' '\n",
        "\n",
        "        if sampled_word != '<EOS> ':\n",
        "            decoded_translation += sampled_word\n",
        "\n",
        "        if sampled_word == '<EOS> ' or len(decoded_translation.split()) > 13:\n",
        "            stop_condition = True \n",
        "\n",
        "        empty_target_seq = np.zeros( ( 1 , 1 ) )  \n",
        "        empty_target_seq[ 0 , 0 ] = sampled_word_index\n",
        "        stat = [h, c]\n",
        "    pred_output.append(decoded_translation)\n",
        "    print(\"email attention : \", decoded_translation )\n",
        "    count += 1;\n",
        "\n"
      ],
      "metadata": {
        "colab": {
          "base_uri": "https://localhost:8080/"
        },
        "id": "nfljtMdGLlNn",
        "outputId": "cc0a93c0-b744-404c-e0af-68ab0335699b"
      },
      "id": "nfljtMdGLlNn",
      "execution_count": null,
      "outputs": [
        {
          "output_type": "stream",
          "name": "stdout",
          "text": [
            "1/1 [==============================] - 0s 361ms/step\n"
          ]
        },
        {
          "output_type": "stream",
          "name": "stderr",
          "text": [
            "WARNING:tensorflow:Model was constructed with shape (None, 8) for input KerasTensor(type_spec=TensorSpec(shape=(None, 8), dtype=tf.int32, name='input_2'), name='input_2', description=\"created by layer 'input_2'\"), but it was called on an input with incompatible shape (None, 1).\n"
          ]
        },
        {
          "output_type": "stream",
          "name": "stdout",
          "text": [
            "1/1 [==============================] - 0s 324ms/step\n",
            "1/1 [==============================] - 0s 16ms/step\n",
            "1/1 [==============================] - 0s 17ms/step\n",
            "1/1 [==============================] - 0s 16ms/step\n",
            "email attention :  yes it will \n",
            "1/1 [==============================] - 0s 16ms/step\n",
            "1/1 [==============================] - 0s 16ms/step\n",
            "1/1 [==============================] - 0s 16ms/step\n",
            "1/1 [==============================] - 0s 17ms/step\n",
            "1/1 [==============================] - 0s 16ms/step\n",
            "email attention :  yes it does \n",
            "1/1 [==============================] - 0s 16ms/step\n",
            "1/1 [==============================] - 0s 17ms/step\n",
            "1/1 [==============================] - 0s 17ms/step\n",
            "1/1 [==============================] - 0s 16ms/step\n",
            "email attention :  <UNKNOWN> <UNKNOWN> \n",
            "1/1 [==============================] - 0s 16ms/step\n",
            "1/1 [==============================] - 0s 16ms/step\n",
            "1/1 [==============================] - 0s 16ms/step\n",
            "1/1 [==============================] - 0s 16ms/step\n",
            "1/1 [==============================] - 0s 17ms/step\n",
            "1/1 [==============================] - 0s 16ms/step\n",
            "email attention :  it is a <UNKNOWN> \n",
            "1/1 [==============================] - 0s 16ms/step\n",
            "1/1 [==============================] - 0s 16ms/step\n",
            "1/1 [==============================] - 0s 17ms/step\n",
            "1/1 [==============================] - 0s 16ms/step\n",
            "1/1 [==============================] - 0s 16ms/step\n",
            "email attention :  yes it does \n",
            "1/1 [==============================] - 0s 16ms/step\n",
            "1/1 [==============================] - 0s 17ms/step\n",
            "1/1 [==============================] - 0s 19ms/step\n",
            "1/1 [==============================] - 0s 19ms/step\n",
            "1/1 [==============================] - 0s 16ms/step\n",
            "email attention :  yes it is \n",
            "1/1 [==============================] - 0s 17ms/step\n",
            "1/1 [==============================] - 0s 17ms/step\n",
            "1/1 [==============================] - 0s 17ms/step\n",
            "1/1 [==============================] - 0s 16ms/step\n",
            "1/1 [==============================] - 0s 16ms/step\n",
            "email attention :  yes it will \n",
            "1/1 [==============================] - 0s 16ms/step\n",
            "1/1 [==============================] - 0s 18ms/step\n",
            "1/1 [==============================] - 0s 17ms/step\n",
            "1/1 [==============================] - 0s 17ms/step\n",
            "1/1 [==============================] - 0s 16ms/step\n",
            "email attention :  yes it does \n",
            "1/1 [==============================] - 0s 15ms/step\n",
            "1/1 [==============================] - 0s 17ms/step\n",
            "1/1 [==============================] - 0s 16ms/step\n",
            "1/1 [==============================] - 0s 17ms/step\n",
            "1/1 [==============================] - 0s 18ms/step\n",
            "email attention :  yes it will \n",
            "1/1 [==============================] - 0s 16ms/step\n",
            "1/1 [==============================] - 0s 17ms/step\n",
            "1/1 [==============================] - 0s 18ms/step\n",
            "1/1 [==============================] - 0s 17ms/step\n",
            "1/1 [==============================] - 0s 16ms/step\n",
            "1/1 [==============================] - 0s 17ms/step\n",
            "email attention :  it is a pair \n"
          ]
        }
      ]
    },
    {
      "cell_type": "code",
      "source": [
        "truth = testOutput[0:10]\n",
        "truth = [(i[1:-1]) for i in truth]"
      ],
      "metadata": {
        "id": "JDMAm2J9Pzr8"
      },
      "id": "JDMAm2J9Pzr8",
      "execution_count": null,
      "outputs": []
    },
    {
      "cell_type": "code",
      "source": [
        "print([\" \".join(i) for i in testInput[0:10]])"
      ],
      "metadata": {
        "colab": {
          "base_uri": "https://localhost:8080/"
        },
        "id": "AFWtTac_JpLf",
        "outputId": "125917cb-742b-4841-9166-7d56479c8556"
      },
      "id": "AFWtTac_JpLf",
      "execution_count": null,
      "outputs": [
        {
          "output_type": "stream",
          "name": "stdout",
          "text": [
            "['will it fit 4l80e', 'does this block access to the front tow tie down points', 'what is the polyester polyamide blend ratio', 'what is the number for a dana 30 cover', 'can the bassinet sit on the ground i e without the frame', 'is this the correct element for a frigidaire wall oven rbe e 94', 'i need a shift cable for my trailblaizer 2002 somebody know which one i can get', 'does this pen come with any tips', 'this will fit in skyline v35 sedan', 'is this a single pad or a set of 2']\n"
          ]
        }
      ]
    },
    {
      "cell_type": "code",
      "source": [
        "truth = filter_unknown(encoding, truth)\n",
        "truth"
      ],
      "metadata": {
        "colab": {
          "base_uri": "https://localhost:8080/"
        },
        "id": "_QHv8UrHIaVE",
        "outputId": "21b32f36-7c07-4edc-dd96-1666fc0fde16"
      },
      "id": "_QHv8UrHIaVE",
      "execution_count": null,
      "outputs": [
        {
          "output_type": "execute_result",
          "data": {
            "text/plain": [
              "[['i', 'used', 'it', 'on', 'a', '<UNKNOWN>'],\n",
              " ['no', 'it', 'does', 'not'],\n",
              " ['75', 'polyester', 'and', '25', '<UNKNOWN>'],\n",
              " ['40', '<UNKNOWN>', 'is', 'correct'],\n",
              " ['no', 'it', 'can', 'not'],\n",
              " ['yes', 'that', 'is', 'the', 'correct', 'one'],\n",
              " ['ac', '<UNKNOWN>', '<UNKNOWN>'],\n",
              " ['yes', 'it', 'did'],\n",
              " ['yes', 'it', 'will', 'fit'],\n",
              " ['set', 'of', '2']]"
            ]
          },
          "metadata": {},
          "execution_count": 22
        }
      ]
    },
    {
      "cell_type": "code",
      "source": [
        "pred_output"
      ],
      "metadata": {
        "colab": {
          "base_uri": "https://localhost:8080/"
        },
        "id": "Wb2eI84aAVOf",
        "outputId": "b9614e75-afd9-4c0f-83c0-b91f722066ce"
      },
      "id": "Wb2eI84aAVOf",
      "execution_count": null,
      "outputs": [
        {
          "output_type": "execute_result",
          "data": {
            "text/plain": [
              "['yes it will ',\n",
              " 'yes it does ',\n",
              " '<UNKNOWN> <UNKNOWN> ',\n",
              " 'it is a <UNKNOWN> ',\n",
              " 'yes it does ',\n",
              " 'yes it is ',\n",
              " 'yes it will ',\n",
              " 'yes it does ',\n",
              " 'yes it will ',\n",
              " 'it is a pair ']"
            ]
          },
          "metadata": {},
          "execution_count": 23
        }
      ]
    },
    {
      "cell_type": "code",
      "source": [
        "from nltk.translate.bleu_score import sentence_bleu\n",
        "num = 10\n",
        "score = 0.0\n",
        "for i in range(10):\n",
        "    score += sentence_bleu([truth[i]], pred_output[i].split(), weights=(1.0, 0, 0, 0))\n",
        "score /= 10\n",
        "print('BLEU: %f' % score)"
      ],
      "metadata": {
        "colab": {
          "base_uri": "https://localhost:8080/"
        },
        "id": "RvtEoB0qPEWN",
        "outputId": "d7aa3efc-7188-4ce3-a50c-d3761bebccc9"
      },
      "id": "RvtEoB0qPEWN",
      "execution_count": null,
      "outputs": [
        {
          "output_type": "stream",
          "name": "stdout",
          "text": [
            "BLEU: 0.307917\n"
          ]
        },
        {
          "output_type": "stream",
          "name": "stderr",
          "text": [
            "/usr/local/lib/python3.8/dist-packages/nltk/translate/bleu_score.py:552: UserWarning: \n",
            "The hypothesis contains 0 counts of 2-gram overlaps.\n",
            "Therefore the BLEU score evaluates to 0, independently of\n",
            "how many N-gram overlaps of lower order it contains.\n",
            "Consider using lower n-gram order or use SmoothingFunction()\n",
            "  warnings.warn(_msg)\n",
            "/usr/local/lib/python3.8/dist-packages/nltk/translate/bleu_score.py:552: UserWarning: \n",
            "The hypothesis contains 0 counts of 3-gram overlaps.\n",
            "Therefore the BLEU score evaluates to 0, independently of\n",
            "how many N-gram overlaps of lower order it contains.\n",
            "Consider using lower n-gram order or use SmoothingFunction()\n",
            "  warnings.warn(_msg)\n",
            "/usr/local/lib/python3.8/dist-packages/nltk/translate/bleu_score.py:552: UserWarning: \n",
            "The hypothesis contains 0 counts of 4-gram overlaps.\n",
            "Therefore the BLEU score evaluates to 0, independently of\n",
            "how many N-gram overlaps of lower order it contains.\n",
            "Consider using lower n-gram order or use SmoothingFunction()\n",
            "  warnings.warn(_msg)\n"
          ]
        }
      ]
    },
    {
      "cell_type": "code",
      "source": [
        "# prepro1 = \"\"\n",
        "# while prepro1 != 'q':\n",
        "#     prepro1  = input(\"Question : \")\n",
        "\n",
        "#     transformed_input = decontracted(prepro1)\n",
        "#     transformed_input = transformed_input.replace('\\\\r', ' ')\n",
        "#     transformed_input = transformed_input.replace('\\\\\"', ' ')\n",
        "#     transformed_input = transformed_input.replace('\\\\n', ' ')\n",
        "#     transformed_input = re.sub('[^A-Za-z0-9]+', ' ', transformed_input)\n",
        "#     transformed_input = transformed_input.lower().strip()\n",
        "#     input_tokens = [nltk.word_tokenize(transformed_input)]\n",
        "#     encoder_input = transform(encoding, input_tokens, INPUT_VECTOR_LENGTH)\n",
        "#     decoder_input = np.zeros(shape=(len(encoder_input), OUTPUT_VECTOR_LENGTH))\n",
        "#     decoder_input[:,0] = encoding[SOS]\n",
        "\n",
        "#     print(encoder_input)\n",
        "#     stat = enc_model.predict( encoder_input )\n",
        "\n",
        "#     empty_target_seq = np.zeros( ( 1 , 1) )\n",
        "#     empty_target_seq[0, 0] = encoding['<SOS>']\n",
        "\n",
        "#     stop_condition = False\n",
        "#     decoded_translation = ''\n",
        "\n",
        "#     while not stop_condition :\n",
        "#         dec_outputs , h, c= dec_model.predict([ empty_target_seq] + stat )\n",
        "#         decoder_concat_input = dense(dec_outputs)\n",
        "#         sampled_word_index = np.argmax( decoder_concat_input[0, -1, :] )\n",
        "#         sampled_word = decoding[sampled_word_index] + ' '\n",
        "\n",
        "#         if sampled_word != '<EOS> ':\n",
        "#             decoded_translation += sampled_word  \n",
        "\n",
        "#         if sampled_word == '<EOS> ' or len(decoded_translation.split()) > 13:\n",
        "#             stop_condition = True \n",
        "\n",
        "#         empty_target_seq = np.zeros( ( 1 , 1 ) )  \n",
        "#         empty_target_seq[ 0 , 0 ] = sampled_word_index\n",
        "#         stat = [h, c]  \n",
        "\n",
        "#     print(\"email reply: \", decoded_translation )\n",
        "#     print(\"==============================================\")  "
      ],
      "metadata": {
        "id": "mnS9AgkTgzYL"
      },
      "id": "mnS9AgkTgzYL",
      "execution_count": null,
      "outputs": []
    },
    {
      "cell_type": "code",
      "execution_count": null,
      "id": "89f7a6d9",
      "metadata": {
        "id": "89f7a6d9"
      },
      "outputs": [],
      "source": [
        "# # g!unzip Data.zip\n",
        "# !unzip glove.6B.50d.txt.zip"
      ]
    },
    {
      "cell_type": "code",
      "execution_count": null,
      "id": "bca55828",
      "metadata": {
        "id": "bca55828"
      },
      "outputs": [],
      "source": []
    }
  ],
  "metadata": {
    "kernelspec": {
      "display_name": "Python 3.9.15",
      "language": "python",
      "name": "python3"
    },
    "language_info": {
      "codemirror_mode": {
        "name": "ipython",
        "version": 3
      },
      "file_extension": ".py",
      "mimetype": "text/x-python",
      "name": "python",
      "nbconvert_exporter": "python",
      "pygments_lexer": "ipython3",
      "version": "3.9.15"
    },
    "vscode": {
      "interpreter": {
        "hash": "ee7d7838ef53998fd22ad7449b76e48b4013ea11e59d28ee193f2cd757746339"
      }
    },
    "colab": {
      "provenance": [],
      "machine_shape": "hm"
    },
    "gpuClass": "premium",
    "accelerator": "GPU"
  },
  "nbformat": 4,
  "nbformat_minor": 5
}